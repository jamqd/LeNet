{
 "cells": [
  {
   "cell_type": "markdown",
   "metadata": {},
   "source": [
    "# LeNet-5 Implementation in Keras for MNIST Digits Dataset\n",
    "\n",
    "Based on this [paper](http://yann.lecun.com/exdb/publis/pdf/lecun-01a.pdf) by Yann Lecun, Leon Bottou, Yoshua Benigo, and Ptrick Haffner in 1998. This implementation uses 28x28 input images instaed of 32x32 and uses the ReLU activation function instead of the sigmoid function.\n",
    "\n",
    "### Documentation of Libraries annd Frameworks\n",
    "\n",
    "\n",
    "*   [NumPy](https://docs.scipy.org/doc/numpy-1.13.0/reference/)\n",
    "*   [Matplotlib](https://matplotlib.org/contents.html)\n",
    "*   [Keras](https://keras.io/)"
   ]
  },
  {
   "cell_type": "code",
   "execution_count": 1,
   "metadata": {},
   "outputs": [
    {
     "name": "stderr",
     "output_type": "stream",
     "text": [
      "Using TensorFlow backend.\n"
     ]
    }
   ],
   "source": [
    "import numpy as np\n",
    "import matplotlib.pyplot as plt\n",
    "from keras.models import Model\n",
    "from keras.layers import Input, Dense, Conv2D, AveragePooling2D, Flatten, Activation\n",
    "from keras.datasets import mnist\n",
    "from keras.losses import categorical_crossentropy\n",
    "from keras import utils\n",
    "%matplotlib inline"
   ]
  },
  {
   "cell_type": "code",
   "execution_count": 2,
   "metadata": {},
   "outputs": [],
   "source": [
    "#import mnist data\n",
    "(x_train_orig, y_train), (x_test_orig, y_test) = mnist.load_data()"
   ]
  },
  {
   "cell_type": "code",
   "execution_count": 3,
   "metadata": {},
   "outputs": [
    {
     "name": "stdout",
     "output_type": "stream",
     "text": [
      "x_train_orig shape: (60000, 28, 28)\n",
      "y_train shape: (60000,)\n",
      "x_test_orig shape: (10000, 28, 28)\n",
      "y_test shape: (10000,)\n",
      "\n",
      "Reshaped:\n",
      "x_train shape: (60000, 28, 28, 1)\n",
      "x_test shape: (10000, 28, 28, 1)\n"
     ]
    }
   ],
   "source": [
    "#dimensions of dataset\n",
    "print('x_train_orig shape: ' + str(x_train_orig.shape))\n",
    "print('y_train shape: ' + str(y_train.shape))\n",
    "print('x_test_orig shape: ' + str(x_test_orig.shape))\n",
    "print('y_test shape: ' + str(y_test.shape))\n",
    "\n",
    "x_train_orig = x_train_orig / 255\n",
    "x_test_orig = x_test_orig / 255\n",
    "y_train = utils.to_categorical(y_train, 10)\n",
    "y_test = utils.to_categorical(y_test, 10)\n",
    "\n",
    "#reshape x_train and x_test for convolutions\n",
    "x_train = np.reshape(x_train_orig, [-1, 28, 28, 1])\n",
    "x_test = np.reshape(x_test_orig, [-1, 28, 28, 1])\n",
    "print()\n",
    "print('Reshaped:')\n",
    "print('x_train shape: ' + str(x_train.shape))\n",
    "print('x_test shape: ' + str(x_test.shape))\n"
   ]
  },
  {
   "cell_type": "code",
   "execution_count": 4,
   "metadata": {},
   "outputs": [
    {
     "name": "stdout",
     "output_type": "stream",
     "text": [
      "This is an image of a [0. 0. 0. 0. 0. 1. 0. 0. 0. 0.]\n"
     ]
    },
    {
     "data": {
      "text/plain": [
       "<matplotlib.image.AxesImage at 0x164588d20b8>"
      ]
     },
     "execution_count": 4,
     "metadata": {},
     "output_type": "execute_result"
    },
    {
     "data": {
      "image/png": "[encoded data removed]",
      "text/plain": [
       "<Figure size 432x288 with 1 Axes>"
      ]
     },
     "metadata": {},
     "output_type": "display_data"
    }
   ],
   "source": [
    "#visualize image from training set\n",
    "index = 0\n",
    "print('This is an image of a ' + str(y_train[index]))\n",
    "plt.imshow(x_train_orig[index])"
   ]
  },
  {
   "cell_type": "code",
   "execution_count": 5,
   "metadata": {},
   "outputs": [
    {
     "name": "stdout",
     "output_type": "stream",
     "text": [
      "_________________________________________________________________\n",
      "Layer (type)                 Output Shape              Param #   \n",
      "=================================================================\n",
      "input_1 (InputLayer)         (None, 28, 28, 1)         0         \n",
      "_________________________________________________________________\n",
      "conv1 (Conv2D)               (None, 24, 24, 6)         156       \n",
      "_________________________________________________________________\n",
      "pool1 (AveragePooling2D)     (None, 12, 12, 6)         0         \n",
      "_________________________________________________________________\n",
      "conv2 (Conv2D)               (None, 8, 8, 16)          2416      \n",
      "_________________________________________________________________\n",
      "pool2 (AveragePooling2D)     (None, 4, 4, 16)          0         \n",
      "_________________________________________________________________\n",
      "flatten_1 (Flatten)          (None, 256)               0         \n",
      "_________________________________________________________________\n",
      "dense1 (Dense)               (None, 120)               30840     \n",
      "_________________________________________________________________\n",
      "dense2 (Dense)               (None, 84)                10164     \n",
      "_________________________________________________________________\n",
      "dense3 (Dense)               (None, 10)                850       \n",
      "=================================================================\n",
      "Total params: 44,426\n",
      "Trainable params: 44,426\n",
      "Non-trainable params: 0\n",
      "_________________________________________________________________\n",
      "None\n",
      "Train on 60000 samples, validate on 10000 samples\n",
      "Epoch 1/10\n",
      "60000/60000 [==============================] - 10s 159us/step - loss: 0.2352 - acc: 0.9271 - val_loss: 0.0871 - val_acc: 0.9709\n",
      "Epoch 2/10\n",
      "60000/60000 [==============================] - 6s 105us/step - loss: 0.0790 - acc: 0.9755 - val_loss: 0.0498 - val_acc: 0.9834\n",
      "Epoch 3/10\n",
      "60000/60000 [==============================] - 6s 105us/step - loss: 0.0561 - acc: 0.9819 - val_loss: 0.0435 - val_acc: 0.9864\n",
      "Epoch 4/10\n",
      "60000/60000 [==============================] - 6s 105us/step - loss: 0.0441 - acc: 0.9865 - val_loss: 0.0415 - val_acc: 0.9864\n",
      "Epoch 5/10\n",
      "60000/60000 [==============================] - 6s 105us/step - loss: 0.0358 - acc: 0.9886 - val_loss: 0.0416 - val_acc: 0.9867\n",
      "Epoch 6/10\n",
      "60000/60000 [==============================] - 6s 106us/step - loss: 0.0310 - acc: 0.9902 - val_loss: 0.0390 - val_acc: 0.9868\n",
      "Epoch 7/10\n",
      "60000/60000 [==============================] - 6s 107us/step - loss: 0.0266 - acc: 0.9916 - val_loss: 0.0358 - val_acc: 0.9886\n",
      "Epoch 8/10\n",
      "60000/60000 [==============================] - 6s 105us/step - loss: 0.0232 - acc: 0.9925 - val_loss: 0.0327 - val_acc: 0.9899\n",
      "Epoch 9/10\n",
      "60000/60000 [==============================] - 6s 105us/step - loss: 0.0195 - acc: 0.9940 - val_loss: 0.0330 - val_acc: 0.9895\n",
      "Epoch 10/10\n",
      "60000/60000 [==============================] - 6s 105us/step - loss: 0.0182 - acc: 0.9943 - val_loss: 0.0338 - val_acc: 0.9908\n"
     ]
    },
    {
     "data": {
      "text/plain": [
       "<keras.callbacks.History at 0x164589bd470>"
      ]
     },
     "execution_count": 5,
     "metadata": {},
     "output_type": "execute_result"
    }
   ],
   "source": [
    "#input images\n",
    "X_input = Input(shape=(28,28,1))\n",
    "#6 5x5 filters\n",
    "X = Conv2D(filters=6, kernel_size=(5,5), activation='relu', name='conv1')(X_input)\n",
    "#average pooling 2x2\n",
    "X = AveragePooling2D(pool_size=(2, 2), name='pool1')(X)\n",
    "#16 5x5 filters\n",
    "X = Conv2D(filters=16, kernel_size=(5,5), activation='relu', name='conv2')(X)\n",
    "#average pooling 2x2\n",
    "X = AveragePooling2D(pool_size=(2, 2), name='pool2')(X)\n",
    "X = Flatten()(X)\n",
    "X = Dense(units=120, activation='relu', name='dense1')(X)\n",
    "X = Dense(units=84, activation='relu', name='dense2')(X)\n",
    "X = Dense(units=10, activation='softmax',name='dense3')(X)\n",
    "model = Model(inputs = X_input, outputs = X, name=\"lenet5\")\n",
    "model.compile('Adam', loss=categorical_crossentropy, metrics=['accuracy'])\n",
    "print(model.summary())\n",
    "model.fit(x_train, y_train, epochs=10, validation_data = (x_test, y_test))"
   ]
  },
  {
   "cell_type": "code",
   "execution_count": 6,
   "metadata": {},
   "outputs": [],
   "source": [
    "def predictNum(index):\n",
    "    print(\"The model predicted \" +str(np.argmax(model.predict(x_test[index:index + 1]))))\n",
    "    print('This is an image of a ' + str(np.argmax(y_test[index])))\n",
    "    plt.imshow(x_test_orig[index])"
   ]
  },
  {
   "cell_type": "code",
   "execution_count": 7,
   "metadata": {},
   "outputs": [
    {
     "name": "stdout",
     "output_type": "stream",
     "text": [
      "The model predicted 1\n",
      "This is an image of a 1\n"
     ]
    },
    {
     "data": {
      "image/png": "[encoded data removed]",
      "text/plain": [
       "<Figure size 432x288 with 1 Axes>"
      ]
     },
     "metadata": {},
     "output_type": "display_data"
    }
   ],
   "source": [
    "predictNum(506)"
   ]
  },
  {
   "cell_type": "code",
   "execution_count": 8,
   "metadata": {},
   "outputs": [],
   "source": [
    "model.save('test.h5')"
   ]
  },
  {
   "cell_type": "code",
   "execution_count": null,
   "metadata": {},
   "outputs": [],
   "source": []
  }
 ],
 "metadata": {
  "kernelspec": {
   "display_name": "Python [conda env:ml36]",
   "language": "python",
   "name": "conda-env-ml36-py"
  },
  "language_info": {
   "codemirror_mode": {
    "name": "ipython",
    "version": 3
   },
   "file_extension": ".py",
   "mimetype": "text/x-python",
   "name": "python",
   "nbconvert_exporter": "python",
   "pygments_lexer": "ipython3",
   "version": "3.6.6"
  }
 },
 "nbformat": 4,
 "nbformat_minor": 2
}
