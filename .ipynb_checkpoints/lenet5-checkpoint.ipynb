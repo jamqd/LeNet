{
 "cells": [
  {
   "cell_type": "markdown",
   "metadata": {
    "colab_type": "text",
    "id": "view-in-github"
   },
   "source": [
    "[View in Colaboratory](https://colab.research.google.com/github/jamqd/MLProjects/blob/master/lenet5.ipynb)"
   ]
  },
  {
   "cell_type": "markdown",
   "metadata": {
    "colab_type": "text",
    "id": "6m6zhN4uCxo-"
   },
   "source": [
    "# LeNet-5 Implementation in Tensorflow for MNIST Digits Dataset\n",
    "\n",
    "Based on this [paper](http://yann.lecun.com/exdb/publis/pdf/lecun-01a.pdf) by Yann Lecun, Leon Bottou, Yoshua Benigo, and Ptrick Haffner in 1998. This implementation uses 28x28 input images instaed of 32x32 and uses the ReLU activation function instead of the sigmoid function.\n",
    "\n",
    "### Documentation of Libraries annd Frameworks\n",
    "\n",
    "\n",
    "*   [NumPy](https://docs.scipy.org/doc/numpy-1.13.0/reference/)\n",
    "*   [Matplotlib](https://matplotlib.org/contents.html)\n",
    "*   [TensorFlow](https://www.tensorflow.org/api_docs/)\n",
    "\n"
   ]
  },
  {
   "cell_type": "code",
   "execution_count": 1,
   "metadata": {
    "colab": {},
    "colab_type": "code",
    "id": "ddPVa4XW9Meo"
   },
   "outputs": [],
   "source": [
    "import numpy as np\n",
    "import matplotlib.pyplot as plt\n",
    "import tensorflow as tf\n",
    "%matplotlib inline"
   ]
  },
  {
   "cell_type": "code",
   "execution_count": 2,
   "metadata": {
    "colab": {},
    "colab_type": "code",
    "id": "AUbS5M16O9xZ"
   },
   "outputs": [],
   "source": [
    "#import mnist data\n",
    "(x_train_orig, y_train), (x_test_orig, y_test) = tf.keras.datasets.mnist.load_data()"
   ]
  },
  {
   "cell_type": "code",
   "execution_count": 3,
   "metadata": {
    "colab": {
     "base_uri": "https://localhost:8080/",
     "height": 153
    },
    "colab_type": "code",
    "id": "242jcWcyX8y5",
    "outputId": "a694e0e8-bce7-4fb5-c97b-7d23086285d7"
   },
   "outputs": [
    {
     "name": "stdout",
     "output_type": "stream",
     "text": [
      "x_train_orig shape: (60000, 28, 28)\n",
      "y_train shape: (60000,)\n",
      "x_test_orig shape: (10000, 28, 28)\n",
      "y_test shape: (10000,)\n",
      "\n",
      "Reshaped:\n",
      "x_train shape: (60000, 28, 28, 1)\n",
      "x_test shape: (10000, 28, 28, 1)\n"
     ]
    }
   ],
   "source": [
    "#dimensions of dataset\n",
    "print('x_train_orig shape: ' + str(x_train_orig.shape))\n",
    "print('y_train shape: ' + str(y_train.shape))\n",
    "print('x_test_orig shape: ' + str(x_test_orig.shape))\n",
    "print('y_test shape: ' + str(y_test.shape))\n",
    "\n",
    "#reshape x_train and x_test for convolutions\n",
    "x_train = tf.reshape(x_train_orig, [-1, 28, 28, 1])\n",
    "x_test = tf.reshape(x_test_orig, [-1, 28, 28, 1])\n",
    "print()\n",
    "print('Reshaped:')\n",
    "print('x_train shape: ' + str(x_train.shape))\n",
    "print('x_test shape: ' + str(x_test.shape))\n",
    "\n",
    "with tf.Session() as sess:\n",
    "  x_tr, x_te = sess.run([x_train, x_test])"
   ]
  },
  {
   "cell_type": "code",
   "execution_count": 4,
   "metadata": {
    "colab": {
     "base_uri": "https://localhost:8080/",
     "height": 381
    },
    "colab_type": "code",
    "id": "nu0ii2aSWYWH",
    "outputId": "7989278c-3fdd-421d-e635-75b2e02fd590"
   },
   "outputs": [
    {
     "name": "stdout",
     "output_type": "stream",
     "text": [
      "This is an image of a 5\n"
     ]
    },
    {
     "data": {
      "text/plain": [
       "<matplotlib.image.AxesImage at 0x20eb8a26b38>"
      ]
     },
     "execution_count": 4,
     "metadata": {},
     "output_type": "execute_result"
    },
    {
     "data": {
      "image/png": "[encoded data removed]",
      "text/plain": [
       "<Figure size 432x288 with 1 Axes>"
      ]
     },
     "metadata": {},
     "output_type": "display_data"
    }
   ],
   "source": [
    "#visualize image from training set\n",
    "index = 0 #@param {type:\"slider\", min:0, max:59999, step:1}\n",
    "print('This is an image of a ' + str(y_train[index]))\n",
    "plt.imshow(x_train_orig[index])"
   ]
  },
  {
   "cell_type": "code",
   "execution_count": 5,
   "metadata": {
    "colab": {
     "base_uri": "https://localhost:8080/",
     "height": 221
    },
    "colab_type": "code",
    "id": "jcnRNZakYe9r",
    "outputId": "4ece846e-84a8-4718-8f72-ee11d10d2dd0"
   },
   "outputs": [
    {
     "name": "stdout",
     "output_type": "stream",
     "text": [
      "Cost after epoch 0: 26.824787\n",
      "Cost after epoch 20: 1.4604193\n",
      "Cost after epoch 40: 0.59390336\n",
      "Cost after epoch 60: 0.37864503\n",
      "Cost after epoch 80: 0.27833027\n",
      "Cost after epoch 100: 0.21976279\n",
      "Cost after epoch 120: 0.17974164\n",
      "Cost after epoch 140: 0.15042406\n",
      "Cost after epoch 160: 0.12907353\n",
      "Cost after epoch 180: 0.113346435\n",
      "Train Accuracy: 0.9708833\n",
      "Test Accuracy: 0.9682\n"
     ]
    }
   ],
   "source": [
    "# resets the tensorflow graph\n",
    "tf.reset_default_graph() \n",
    "\n",
    "# set placeholders for the inputs and outputs\n",
    "X = tf.placeholder(tf.float32, shape = [None, 28, 28, 1], name = 'X')\n",
    "Y = tf.placeholder(tf.int64, shape = [None,], name = 'Y')\n",
    "\n",
    "# convolution 5x5 6 filters\n",
    "conv1 = tf.layers.conv2d(X, 6, 5, name = 'conv1', activation = tf.nn.relu, kernel_initializer = tf.contrib.layers.xavier_initializer())\n",
    "# average pooling 2x2\n",
    "pool1 = tf.layers.average_pooling2d(conv1, 2, 2, name = 'pool1')\n",
    "# convolution 5x5 16 filters\n",
    "conv2 = tf.layers.conv2d(pool1, 16, 5, name = 'conv2', activation = tf.nn.relu, kernel_initializer = tf.contrib.layers.xavier_initializer())\n",
    "# average pooling 2x2\n",
    "pool2 = tf.layers.average_pooling2d(conv2, 2, 2, name = 'pool2')\n",
    "# flatten last layer to 256 units\n",
    "pool2_flat = tf.contrib.layers.flatten(pool2)\n",
    "# fully connected layer 120 units\n",
    "dense1 = tf.layers.dense(pool2_flat, 120, activation = tf.nn.relu, name = 'dense1', kernel_initializer = tf.contrib.layers.xavier_initializer())\n",
    "# fully connected layer 84 units\n",
    "dense2 = tf.layers.dense(pool2_flat, 84, activation = tf.nn.relu, name = 'dense2', kernel_initializer = tf.contrib.layers.xavier_initializer())\n",
    "# output layer 10 units for 10 digits\n",
    "logits = tf.layers.dense(dense2, 10, kernel_initializer = tf.contrib.layers.xavier_initializer())\n",
    "\n",
    "# compute loss and cost\n",
    "loss = tf.losses.sparse_softmax_cross_entropy(Y,logits)\n",
    "cost = tf.reduce_mean(loss)\n",
    "\n",
    "# train using adam optimizer\n",
    "optimizer = tf.train.AdamOptimizer(learning_rate = 0.001).minimize(cost)\n",
    "\n",
    "# training\n",
    "epochs = 200 #@param {type:\"integer\"}\n",
    "init = tf.global_variables_initializer()\n",
    "with tf.Session() as sess:\n",
    "  sess.run(init)\n",
    "  for n in range(epochs):\n",
    "    optim, temp_cost = sess.run([optimizer, cost], feed_dict = {X: x_tr, Y: y_train})\n",
    "    \n",
    "    # print cost every 20 epochs\n",
    "    if n % 20 == 0:\n",
    "      print('Cost after epoch ' + str(n) + ': ' + str(temp_cost))\n",
    "  \n",
    "  #get predictions\n",
    "  predict_op = tf.argmax(logits, 1)\n",
    "  correct_prediction = tf.equal(predict_op, Y)\n",
    "  \n",
    "  \n",
    "  #print accuracy on training and test sets\n",
    "  accuracy = tf.reduce_mean(tf.cast(correct_prediction, \"float\"))\n",
    "  train_accuracy = accuracy.eval({X: x_tr, Y: y_train})\n",
    "  test_accuracy = accuracy.eval({X: x_te, Y: y_test})\n",
    "  print(\"Train Accuracy:\", train_accuracy)\n",
    "  print(\"Test Accuracy:\", test_accuracy)\n",
    "  \n",
    "  # save test set predictions\n",
    "  test_pred = predict_op.eval({X: x_te, Y: y_test})"
   ]
  },
  {
   "cell_type": "code",
   "execution_count": 6,
   "metadata": {
    "colab": {
     "base_uri": "https://localhost:8080/",
     "height": 398
    },
    "colab_type": "code",
    "id": "7Yy0mhrzXIv4",
    "outputId": "041f16d4-1584-4ca6-b7e1-c63bc7a9e7ef"
   },
   "outputs": [
    {
     "name": "stdout",
     "output_type": "stream",
     "text": [
      "This is a 3\n",
      "The model predicted a 3\n"
     ]
    },
    {
     "data": {
      "text/plain": [
       "<matplotlib.image.AxesImage at 0x2105847ee80>"
      ]
     },
     "execution_count": 6,
     "metadata": {},
     "output_type": "execute_result"
    },
    {
     "data": {
      "image/png": "[encoded data removed]",
      "text/plain": [
       "<Figure size 432x288 with 1 Axes>"
      ]
     },
     "metadata": {},
     "output_type": "display_data"
    }
   ],
   "source": [
    "index_test = 500 #@param {type:\"slider\", min:0, max:9999, step:1}\n",
    "\n",
    "print('This is a ' + str(y_test[index_test]))\n",
    "print('The model predicted a ' + str(test_pred[index_test]))\n",
    "plt.imshow(x_test_orig[index_test])"
   ]
  },
  {
   "cell_type": "code",
   "execution_count": null,
   "metadata": {},
   "outputs": [],
   "source": []
  }
 ],
 "metadata": {
  "accelerator": "GPU",
  "colab": {
   "collapsed_sections": [],
   "include_colab_link": true,
   "name": "lenet5.ipynb",
   "provenance": [],
   "version": "0.3.2"
  },
  "kernelspec": {
   "display_name": "Python [conda env:ml36]",
   "language": "python",
   "name": "conda-env-ml36-py"
  },
  "language_info": {
   "codemirror_mode": {
    "name": "ipython",
    "version": 3
   },
   "file_extension": ".py",
   "mimetype": "text/x-python",
   "name": "python",
   "nbconvert_exporter": "python",
   "pygments_lexer": "ipython3",
   "version": "3.6.6"
  }
 },
 "nbformat": 4,
 "nbformat_minor": 1
}
